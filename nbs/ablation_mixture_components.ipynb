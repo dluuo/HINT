{
  "cells": [
    {
      "cell_type": "markdown",
      "id": "843cf8de-d678-4243-a8af-d78439058e6a",
      "metadata": {
        "id": "843cf8de-d678-4243-a8af-d78439058e6a"
      },
      "source": [
        "# Hierarchical Cross-Validation Evaluation\n",
        "\n",
        "Contents\n",
        "1.   [Libraries](#cell-1)\n",
        "2.   [Auxiliary Functions](#cell-2)\n",
        "3.   [Baseline CRPS Function](#cell-3)\n",
        "4.   [Run Baselines](#cell-4)\n",
        "\n"
      ]
    },
    {
      "cell_type": "markdown",
      "id": "e9e5cafc-68db-4752-bfe0-b360cd8d9e1f",
      "metadata": {
        "id": "e9e5cafc-68db-4752-bfe0-b360cd8d9e1f"
      },
      "source": [
        "<a name=\"cell-1\"></a>\n",
        "# 1. Libraries"
      ]
    },
    {
      "cell_type": "code",
      "execution_count": null,
      "id": "SuM0EV6dFFk4",
      "metadata": {
        "id": "SuM0EV6dFFk4",
        "vscode": {
          "languageId": "python"
        }
      },
      "outputs": [],
      "source": [
        "#!rm -rf data\n",
        "#!rm -rf hierarchical_datasets/"
      ]
    },
    {
      "cell_type": "code",
      "execution_count": null,
      "id": "7f777bdd-dff4-4bc0-8529-b492874de6f0",
      "metadata": {
        "id": "7f777bdd-dff4-4bc0-8529-b492874de6f0",
        "vscode": {
          "languageId": "python"
        }
      },
      "outputs": [],
      "source": [
        "%%capture\n",
        "!pip install numba statsforecast datasetsforecast\n",
        "!pip install git+https://github.com/Nixtla/neuralforecast.git\n",
        "!pip install git+https://github.com/Nixtla/hierarchicalforecast.git"
      ]
    },
    {
      "cell_type": "code",
      "execution_count": null,
      "id": "f7a5828a-2fb4-4811-9e07-0ee291331978",
      "metadata": {
        "id": "f7a5828a-2fb4-4811-9e07-0ee291331978",
        "vscode": {
          "languageId": "python"
        }
      },
      "outputs": [],
      "source": [
        "# %%capture\n",
        "import numpy as np\n",
        "import pandas as pd\n",
        "import os\n",
        "import re\n",
        "\n",
        "from ray import tune\n",
        "\n",
        "#import wrangled datasets\n",
        "import sys\n",
        "sys.path = ['../'] + sys.path\n",
        "from src.data.labour import Labour\n",
        "from src.data.trafficS import TrafficS\n",
        "from src.data.tourismS import TourismS\n",
        "from src.data.tourismL import TourismL\n",
        "from src.data.wiki2 import Wiki2\n",
        "\n",
        "# Hierarchical data\n",
        "from datasetsforecast.hierarchical import HierarchicalData\n",
        "\n",
        "# Base forecasts\n",
        "from statsforecast.core import StatsForecast\n",
        "from statsforecast.models import ETS, AutoARIMA, SeasonalNaive, Naive\n",
        "\n",
        "# Reconciliation and evaluation\n",
        "from hierarchicalforecast.core import HierarchicalReconciliation\n",
        "from hierarchicalforecast.evaluation import HierarchicalEvaluation, scaled_crps\n",
        "from hierarchicalforecast.methods import BottomUp, TopDown, MiddleOut, MinTrace, ERM\n",
        "from hierarchicalforecast.utils import CodeTimer\n",
        "\n",
        "from neuralforecast import NeuralForecast\n",
        "from neuralforecast.models import NHITS\n",
        "from neuralforecast.auto import AutoNHITS\n",
        "from neuralforecast.losses.pytorch import PMM, GMM, DistributionLoss\n",
        "\n",
        "\n",
        "import matplotlib.pyplot as plt"
      ]
    },
    {
      "cell_type": "markdown",
      "id": "raZ6XHBz7Tto",
      "metadata": {
        "id": "raZ6XHBz7Tto"
      },
      "source": [
        "<a name=\"cell-2\"></a>\n",
        "# 2. Auxiliary Functions\n",
        "\n"
      ]
    },
    {
      "cell_type": "code",
      "execution_count": null,
      "id": "PQkD-OJ_7d_7",
      "metadata": {
        "id": "PQkD-OJ_7d_7",
        "vscode": {
          "languageId": "python"
        }
      },
      "outputs": [],
      "source": [
        "def sort_df_hier(Y_df, S):\n",
        "    Y_df.unique_id = Y_df.unique_id.astype('category')\n",
        "    Y_df.unique_id = Y_df.unique_id.cat.set_categories(S.index)\n",
        "    Y_df = Y_df.sort_values(by=['unique_id', 'ds'])\n",
        "\n",
        "    return Y_df"
      ]
    },
    {
      "cell_type": "code",
      "execution_count": null,
      "id": "fjUrNEXucckH",
      "metadata": {
        "id": "fjUrNEXucckH",
        "vscode": {
          "languageId": "python"
        }
      },
      "outputs": [],
      "source": [
        "def get_hierarchical_crps(data, Y, Y_hat, q_to_pred, model_name='current'):\n",
        "    hier_idxs   = data['hier_idxs']\n",
        "    crps_list = []\n",
        "    for i, idxs in enumerate(hier_idxs):\n",
        "        # Get the series specific to the hierarchical level\n",
        "        y     = Y[idxs, :]\n",
        "        y_hat = Y_hat[idxs, :, :]\n",
        "\n",
        "        crps  = scaled_crps(y, y_hat, q_to_pred)\n",
        "        crps_list.append(crps)\n",
        "\n",
        "    return crps_list"
      ]
    },
    {
      "cell_type": "code",
      "execution_count": null,
      "id": "iRqsZhOn6hZy",
      "metadata": {
        "id": "iRqsZhOn6hZy",
        "vscode": {
          "languageId": "python"
        }
      },
      "outputs": [],
      "source": [
        "datasets = {'Labour': Labour, \n",
        "            'Traffic': TrafficS,\n",
        "            'TourismSmall': TourismS,\n",
        "            'TourismLarge': TourismL,\n",
        "            'Wiki2': Wiki2}"
      ]
    },
    {
      "cell_type": "markdown",
      "id": "56a7aadb-6e2c-456a-a0b5-b29b30deadb5",
      "metadata": {
        "id": "56a7aadb-6e2c-456a-a0b5-b29b30deadb5"
      },
      "source": [
        "<a name=\"cell-3\"></a>\n",
        "# 3. Baseline CRPS Function"
      ]
    },
    {
      "cell_type": "code",
      "execution_count": null,
      "id": "beLUrh0q6GLk",
      "metadata": {
        "id": "beLUrh0q6GLk",
        "vscode": {
          "languageId": "python"
        }
      },
      "outputs": [],
      "source": [
        "def run_baselines(dataset, n_components, verbose=False):\n",
        "    with CodeTimer('Read and Parse data   ', verbose):\n",
        "        data = datasets[dataset].load_process()\n",
        "        #import Y_df and remove future df NaNs\n",
        "        Y_df = data['temporal'][data['temporal']['y'].notna()]\n",
        "        Y_df['ds'] = pd.to_datetime(Y_df['ds'])  \n",
        "\n",
        "        #import static df\n",
        "        static_df = data['static']\n",
        "\n",
        "        #import S, tags, properties\n",
        "        S, tags, properties = data['S'], data['tags'], data['properties']\n",
        "        frequency, seasonality, horizon = properties['freq'], properties['seasonality'], properties['horizon']\n",
        "\n",
        "        # --Modeling parameters--\n",
        "        season_length = seasonality\n",
        "        horizon_len = horizon\n",
        "        freq = frequency\n",
        "        n_windows_cv = 1\n",
        "        n_series = len(Y_df.unique_id.unique())\n",
        "        num_components = n_components\n",
        "\n",
        "        #create level and quantiles\n",
        "        level = np.arange(2, 100, 2)\n",
        "        qs = [[50-l/2, 50+l/2] for l in level] \n",
        "        quantiles = np.sort(np.concatenate(qs)/100)\n",
        "\n",
        "    with CodeTimer('Fit/Predict Model\t ', verbose):\n",
        "\n",
        "        dataset_to_model = {'Labour':NHITS(h=horizon, \n",
        "                                        input_size=3 * horizon,\n",
        "                                        batch_size=64,\n",
        "                                        futr_exog_list = [f'y_[lag{seasonality}]'],\n",
        "                                        loss=GMM(n_components=num_components, level=list(level)),\n",
        "                                        random_seed = 18,\n",
        "                                        scaler_type='robust',\n",
        "                                        learning_rate=0.001,\n",
        "                                        max_epochs=250),\n",
        "                            'Traffic':NHITS(h=horizon, \n",
        "                                        input_size=3 * horizon,\n",
        "                                        batch_size=64,\n",
        "                                        futr_exog_list = [f'y_[lag{seasonality}]'],\n",
        "                                        loss=GMM(n_components=num_components, level=list(level)),\n",
        "                                        random_seed = 18,\n",
        "                                        scaler_type='robust',\n",
        "                                        learning_rate=0.001,\n",
        "                                        max_epochs=150),\n",
        "                            'TourismLarge':NHITS(h=horizon, \n",
        "                                        input_size=3 * horizon,\n",
        "                                        batch_size=64,\n",
        "                                        futr_exog_list = [f'y_[lag{seasonality}]'],\n",
        "                                        loss=GMM(n_components=num_components, level=list(level)),\n",
        "                                        random_seed = 18,\n",
        "                                        scaler_type='robust',\n",
        "                                        learning_rate=0.001,\n",
        "                                        max_epochs=100)}\n",
        "        \n",
        "        models = [dataset_to_model[dataset]]\n",
        "\n",
        "        #fit and predict\n",
        "        fcst = NeuralForecast(models=models, freq=frequency)\n",
        "\n",
        "        # Obtain forecast predictions\n",
        "        Y_hat_df = fcst.cross_validation(df=Y_df,\n",
        "                                        static_df=static_df,\n",
        "                                        n_windows=n_windows_cv)\n",
        "        \n",
        "        #sort raw predictions by uid to make sure they are hierarchically ordered\n",
        "        Y_hat_df = sort_df_hier(Y_hat_df, S)\n",
        "\n",
        "        # Group by cutoff date\n",
        "        Y_hat_group_df = Y_hat_df.groupby(['cutoff'])\n",
        "\n",
        "    with CodeTimer('Evaluate Models\t   ', verbose):\n",
        "        #turn Y_hat_df from grouped dataframe to normal dataframe and sort by cutoff/uid\n",
        "        Y_hat_sort_df = Y_hat_group_df.apply(lambda x: x)\n",
        "        Y_hat_sort_df = Y_hat_sort_df.sort_values(by=['cutoff','unique_id'])\n",
        "\n",
        "        #extract just y predictions to get Y_test\n",
        "        Y_test_df = Y_hat_sort_df['y']\n",
        "\n",
        "        #drop all columns that aren't quantile predictions\n",
        "        #keep only columns starting with NHITS-lo- or NHITS-hi-\n",
        "        pattern = re.compile(\"^NHITS-(lo|hi)-\")\n",
        "        Y_hat_quantiles_df = Y_hat_sort_df.filter(regex=pattern)\n",
        "\n",
        "        #convert dataframes to numpy and reshape\n",
        "        Y_test_np = Y_test_df.values.reshape(n_windows_cv, n_series, horizon_len, 1)\n",
        "        Y_hat_np = Y_hat_quantiles_df.values.reshape(n_windows_cv, n_series, horizon_len, -1)\n",
        "\n",
        "        crps_list = [get_hierarchical_crps(data, \n",
        "                                            Y=Y_test_np[window,:,:,0], \n",
        "                                            Y_hat=Y_hat_np[window,:,:,:], \n",
        "                                            q_to_pred=quantiles) for window in range(n_windows_cv)]\n",
        "\n",
        "        crps_list_np = np.array(crps_list)\n",
        "        crps_avg_np = np.average(crps_list_np, axis=0)\n",
        "\n",
        "        overall_crps = crps_avg_np[0]\n",
        "\n",
        "        return overall_crps\n"
      ]
    },
    {
      "cell_type": "markdown",
      "id": "HGnzYNYQL7Ik",
      "metadata": {
        "id": "HGnzYNYQL7Ik"
      },
      "source": [
        "<a name=\"cell-4\"></a>\n",
        "# 4. Run Baselines"
      ]
    },
    {
      "cell_type": "code",
      "execution_count": null,
      "id": "orFRkaJhdz2Y",
      "metadata": {
        "id": "orFRkaJhdz2Y",
        "vscode": {
          "languageId": "python"
        }
      },
      "outputs": [],
      "source": [
        "%%capture\n",
        "verbose = False\n",
        "\n",
        "n_components_list = [1, 10, 25, 50, 100]\n",
        "dataset_list = ['Labour', 'Traffic', 'TourismLarge']\n",
        "\n",
        "ablation_dict = {}\n",
        "ablation_dict['Components'] = n_components_list\n",
        "\n",
        "for dataset in dataset_list: \n",
        "    ablation_dict[dataset] = []\n",
        "\n",
        "# crps_list_all = []\n",
        "for n_components in n_components_list:\n",
        "    # overall_crps_lst = []\n",
        "    for dataset in dataset_list:\n",
        "        overall_crps = run_baselines(dataset=dataset, n_components = n_components, verbose=verbose)\n",
        "        ablation_dict[dataset].append(overall_crps)\n",
        "\n",
        "ablation_df = pd.DataFrame(ablation_dict)\n",
        "ablation_df"
      ]
    },
    {
      "cell_type": "code",
      "execution_count": null,
      "id": "WP2AP1yo1vMf",
      "metadata": {
        "colab": {
          "base_uri": "https://localhost:8080/",
          "height": 522
        },
        "id": "WP2AP1yo1vMf",
        "outputId": "2aaee32b-83ca-4912-ed78-106618301167",
        "vscode": {
          "languageId": "python"
        }
      },
      "outputs": [
        {
          "data": {
            "image/png": "[encoded data removed]",
            "text/plain": [
              "<Figure size 720x576 with 3 Axes>"
            ]
          },
          "metadata": {},
          "output_type": "display_data"
        }
      ],
      "source": [
        "fig, axs = plt.subplots(nrows=3, ncols=1, sharex=True, figsize=(10, 8))\n",
        "\n",
        "axs[0].plot(ablation_df['Components'].values, ablation_df['Labour'].values,\n",
        "          color='#628793')\n",
        "axs[0].set_ylabel('Labour', fontsize=18)\n",
        "\n",
        "axs[1].plot(ablation_df['Components'].values, ablation_df['Traffic'].values,\n",
        "          color='#628793')\n",
        "axs[1].set_ylabel('Traffic', fontsize=18)\n",
        "\n",
        "axs[2].plot(ablation_df['Components'].values, ablation_df['TourismLarge'].values,\n",
        "          color='#628793')\n",
        "axs[2].set_ylabel('TourismLarge', fontsize=18)\n",
        "\n",
        "fig.text(0.5, 0.04, 'Number of Gaussian Mixture Components', ha='center', fontsize=20)\n",
        "fig.text(0.01, 0.5, 'Overall Validation sCRPS ', va='center', rotation='vertical', fontsize=20)\n",
        "\n",
        "plt.savefig(\"CRPSvsComponentsStudy.pdf\", format=\"pdf\", bbox_inches=\"tight\")\n",
        "plt.show()\n",
        "plt.close()"
      ]
    }
  ],
  "metadata": {
    "accelerator": "GPU",
    "colab": {
      "provenance": [],
      "toc_visible": true
    },
    "gpuClass": "standard",
    "kernelspec": {
      "display_name": "Python 3 (ipykernel)",
      "language": "python",
      "name": "python3"
    }
  },
  "nbformat": 4,
  "nbformat_minor": 5
}
