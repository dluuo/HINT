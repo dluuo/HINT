{
  "cells": [
    {
      "cell_type": "code",
      "execution_count": 1,
      "metadata": {
        "colab": {
          "base_uri": "https://localhost:8080/"
        },
        "id": "YTLj3tLq3UF3",
        "outputId": "4a724c42-e3b9-45ff-bc96-b231db8ead84"
      },
      "outputs": [
        {
          "output_type": "stream",
          "name": "stdout",
          "text": [
            "Cloning into 'HINT'...\n",
            "remote: Enumerating objects: 102, done.\u001b[K\n",
            "remote: Counting objects: 100% (102/102), done.\u001b[K\n",
            "remote: Compressing objects: 100% (80/80), done.\u001b[K\n",
            "remote: Total 102 (delta 43), reused 71 (delta 18), pack-reused 0\u001b[K\n",
            "Receiving objects: 100% (102/102), 2.06 MiB | 21.33 MiB/s, done.\n",
            "Resolving deltas: 100% (43/43), done.\n"
          ]
        }
      ],
      "source": [
        "!git clone https://github.com/dluuo/HINT.git"
      ]
    },
    {
      "cell_type": "code",
      "execution_count": 2,
      "metadata": {
        "id": "8QA-NmE64TcT"
      },
      "outputs": [],
      "source": [
        "%%capture\n",
        "!pip install numpy scipy scikit-learn pandas matplotlib requests tqdm epiweeks properscoring ipykernel jupyter black pylint flake8\n",
        "!pip install torch torchvision torchaudio\n",
        "!pip install hierarchicalforecast datasetsforecast neuralforecast"
      ]
    },
    {
      "cell_type": "code",
      "execution_count": 3,
      "metadata": {
        "id": "Jebkt3tFk_d1"
      },
      "outputs": [],
      "source": [
        "#now, go into HINT/src/baselines and run \"python run_profhit.py [datasetname]\""
      ]
    }
  ],
  "metadata": {
    "accelerator": "GPU",
    "colab": {
      "provenance": []
    },
    "gpuClass": "standard",
    "kernelspec": {
      "display_name": "Python 3",
      "name": "python3"
    },
    "language_info": {
      "name": "python"
    }
  },
  "nbformat": 4,
  "nbformat_minor": 0
}